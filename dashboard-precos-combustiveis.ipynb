{
  "cells": [
    {
      "cell_type": "code",
      "execution_count": 1,
      "metadata": {
        "id": "D-T_TRVf2tbO"
      },
      "outputs": [],
      "source": [
        "#Importações\n",
        "import pandas as pd"
      ]
    },
    {
      "cell_type": "code",
      "execution_count": 2,
      "metadata": {
        "id": "uPaXpH-nTmx6"
      },
      "outputs": [],
      "source": [
        "import matplotlib.pyplot as plt"
      ]
    },
    {
      "cell_type": "code",
      "execution_count": 3,
      "metadata": {
        "id": "ZTFikua8uGfm"
      },
      "outputs": [],
      "source": [
        "import plotly.express as px"
      ]
    },
    {
      "cell_type": "code",
      "execution_count": 4,
      "metadata": {
        "id": "HyBIlSye0h9E"
      },
      "outputs": [],
      "source": [
        "import plotly.graph_objs as go"
      ]
    },
    {
      "cell_type": "code",
      "execution_count": 5,
      "metadata": {
        "colab": {
          "base_uri": "https://localhost:8080/"
        },
        "id": "15Ze0vkA3rPw",
        "outputId": "4938b910-ba1e-43a6-c9d7-c79039680197"
      },
      "outputs": [
        {
          "name": "stdout",
          "output_type": "stream",
          "text": [
            "Requirement already satisfied: unidecode in /usr/local/lib/python3.7/dist-packages (1.3.2)\n"
          ]
        }
      ],
      "source": [
        "! pip install unidecode\n",
        "from unidecode import unidecode\n"
      ]
    },
    {
      "cell_type": "code",
      "execution_count": 6,
      "metadata": {
        "id": "GsEodqwTqI_n"
      },
      "outputs": [],
      "source": [
        "! pip install jupyter-dash -q"
      ]
    },
    {
      "cell_type": "code",
      "execution_count": 7,
      "metadata": {
        "id": "vDbBTiCAqOuf"
      },
      "outputs": [],
      "source": [
        "! pip install dash-cytoscape -q"
      ]
    },
    {
      "cell_type": "code",
      "execution_count": 8,
      "metadata": {
        "id": "pqxxK_8fVhUd"
      },
      "outputs": [],
      "source": [
        "import dash\n",
        "from dash import dcc\n",
        "from dash import html\n",
        "from dash.dependencies import Output, Input"
      ]
    },
    {
      "cell_type": "code",
      "execution_count": 9,
      "metadata": {
        "id": "enTwoXXFqrQM"
      },
      "outputs": [],
      "source": [
        "from jupyter_dash import JupyterDash"
      ]
    },
    {
      "cell_type": "code",
      "execution_count": 10,
      "metadata": {
        "id": "_mczOaVFq4DK"
      },
      "outputs": [],
      "source": [
        "import urllib.request, urllib.parse, urllib.error "
      ]
    },
    {
      "cell_type": "code",
      "execution_count": 11,
      "metadata": {
        "id": "EW6SqnYMq5vO"
      },
      "outputs": [],
      "source": [
        "from urllib.error import HTTPError"
      ]
    },
    {
      "cell_type": "code",
      "execution_count": 12,
      "metadata": {
        "colab": {
          "base_uri": "https://localhost:8080/"
        },
        "id": "uwqx4IyKO7qu",
        "outputId": "5192a89d-2818-4955-a7e1-f0fce377b301"
      },
      "outputs": [
        {
          "name": "stdout",
          "output_type": "stream",
          "text": [
            "Dados atualizados da ANP referentes as 4 últimas semanas\n"
          ]
        }
      ],
      "source": [
        "#Criação do DataFrame, verificando a disponibildade dos dados mais atualizados da própria ANP. Em caso de erro, utiliza-se uma base antiga.\n",
        "sucesso = 'Falso' \n",
        "try:\n",
        "   df = pd.read_csv('https://www.gov.br/anp/pt-br/centrais-de-conteudo/dados-abertos/arquivos/shpc/qus/ultimas-4-semanas-gasolina-etanol-2.csv',sep=';',parse_dates=['Data da Coleta'],dayfirst=True)\n",
        "   sucesso = 'Verdadeiro'\n",
        "except UnicodeDecodeError:   \n",
        "  try:\n",
        "    df = pd.read_csv('https://www.gov.br/anp/pt-br/centrais-de-conteudo/dados-abertos/arquivos/shpc/qus/ultimas-4-semanas-gasolina-etanol-2.csv',sep=';',parse_dates=['Data da Coleta'],dayfirst=True,encoding='latin-1')\n",
        "    sucesso = 'Verdadeiro' \n",
        "  except Exception:\n",
        "    pass\n",
        "except HTTPError:\n",
        "  pass\n",
        "except Exception:\n",
        "  pass      \n",
        "if sucesso == 'Falso':\n",
        "  df = pd.read_csv('https://raw.githubusercontent.com/lianasilveira/dashboard-precos-combustiveis-brasil/main/ultimas-4-semanas-gasolina-etanol-2.csv',sep=';',parse_dates=['Data da Coleta'],dayfirst=True)\n",
        "  print('Não foi possível realizar a leitura dos dados atualizados da ANP. A base utilizada representa o período de 27/09/2021 a 22/10/2021')\n",
        "else:\n",
        "  print('Dados atualizados da ANP referentes as 4 últimas semanas')"
      ]
    },
    {
      "cell_type": "code",
      "execution_count": 13,
      "metadata": {
        "colab": {
          "base_uri": "https://localhost:8080/"
        },
        "id": "6kWJ0uFejBUY",
        "outputId": "6b60b272-2ea5-4e4b-d3db-8712dd0d69e8"
      },
      "outputs": [
        {
          "data": {
            "text/plain": [
              "Região - Sigla               object\n",
              "Estado - Sigla               object\n",
              "Município                    object\n",
              "Revenda                      object\n",
              "CNPJ da Revenda              object\n",
              "Nome da Rua                  object\n",
              "Número Rua                   object\n",
              "Complemento                  object\n",
              "Bairro                       object\n",
              "Cep                          object\n",
              "Produto                      object\n",
              "Data da Coleta       datetime64[ns]\n",
              "Valor de Venda               object\n",
              "Valor de Compra             float64\n",
              "Unidade de Medida            object\n",
              "Bandeira                     object\n",
              "dtype: object"
            ]
          },
          "execution_count": 13,
          "metadata": {},
          "output_type": "execute_result"
        }
      ],
      "source": [
        "#Tratamento dos dados\n",
        "df.dtypes"
      ]
    },
    {
      "cell_type": "code",
      "execution_count": 14,
      "metadata": {
        "id": "p-znya7YSGIf"
      },
      "outputs": [],
      "source": [
        "df.drop(['Valor de Compra'], axis=1, inplace=True)"
      ]
    },
    {
      "cell_type": "code",
      "execution_count": 15,
      "metadata": {
        "id": "66h_tg9HbAnW"
      },
      "outputs": [],
      "source": [
        "df['Valor de Venda'] = df['Valor de Venda'].str.replace(',', '.').astype(float)"
      ]
    },
    {
      "cell_type": "code",
      "execution_count": 16,
      "metadata": {
        "id": "dM8elMQIAzoQ"
      },
      "outputs": [],
      "source": [
        "df['Bairro'] = df['Bairro'].astype(str).map(unidecode)"
      ]
    },
    {
      "cell_type": "code",
      "execution_count": 17,
      "metadata": {
        "id": "oDAuaa3JGilJ"
      },
      "outputs": [],
      "source": [
        "df['Bairro'].replace(['nan'], 'Nao Informado', inplace=True)"
      ]
    },
    {
      "cell_type": "code",
      "execution_count": 96,
      "metadata": {
        "colab": {
          "base_uri": "https://localhost:8080/",
          "height": 51
        },
        "id": "GJWa7wJ1Q2YU",
        "outputId": "f82d58ae-9a8e-4afa-d8ba-5977b505b9b4"
      },
      "outputs": [
        {
          "name": "stdout",
          "output_type": "stream",
          "text": [
            "Dash app running on:\n"
          ]
        },
        {
          "data": {
            "application/javascript": "(async (port, path, text, element) => {\n    if (!google.colab.kernel.accessAllowed) {\n      return;\n    }\n    element.appendChild(document.createTextNode(''));\n    const url = await google.colab.kernel.proxyPort(port);\n    const anchor = document.createElement('a');\n    anchor.href = new URL(path, url).toString();\n    anchor.target = '_blank';\n    anchor.setAttribute('data-href', url + path);\n    anchor.textContent = text;\n    element.appendChild(anchor);\n  })(8050, \"/\", \"http://127.0.0.1:8050/\", window.element)",
            "text/plain": [
              "<IPython.core.display.Javascript object>"
            ]
          },
          "metadata": {},
          "output_type": "display_data"
        }
      ],
      "source": [
        "#Dashboard\n",
        "app = JupyterDash(__name__)\n",
        "\n",
        "app.layout=html.Div([\n",
        "    html.Div([                 \n",
        "                     html.H1('\"Abastece Aqui!\" Informações sobre os preços dos combustíveis na sua Região e Município - em R$/litro',\n",
        "                             style={'font-size':'20px','width': '100%'}),\n",
        "       \n",
        "            html.Div([html.Label('Escolha um período:',style={'float':'left','font-size':'14px'}),\n",
        "                     \n",
        "                     dcc.DatePickerSingle(id='dat1', \n",
        "                                  min_date_allowed=df['Data da Coleta'].min(),\n",
        "                                  max_date_allowed=df['Data da Coleta'].max(),\n",
        "                                  display_format='YYYY-MM-DD',\n",
        "                                  date=df['Data da Coleta'].min()),\n",
        "                                   \n",
        "\n",
        "                     dcc.DatePickerSingle(id='dat2', \n",
        "                                  min_date_allowed=df['Data da Coleta'].min(),\n",
        "                                  max_date_allowed=df['Data da Coleta'].max(),\n",
        "                                  display_format='YYYY-MM-DD',\n",
        "                                  date=df['Data da Coleta'].max())\n",
        "                     ],\n",
        "                     className='row')\n",
        "\n",
        "     ]),\n",
        "\n",
        "\n",
        "    html.Div([                 \n",
        "                     \n",
        "                     dcc.Dropdown(id='prods', \n",
        "                                  options=[{'label':x, 'value':x} \n",
        "                                            for x in sorted(df['Produto'].unique())],\n",
        "                                  value='GASOLINA'\n",
        "                                  ),\n",
        "                     \n",
        "                     dcc.Dropdown(id='regs',\n",
        "                                  options=[{'label':x, 'value':x}\n",
        "                                           for x in sorted(df['Região - Sigla'].unique())],\n",
        "                                  value='SE'\n",
        "                                  ),\n",
        "                     \n",
        "                     dcc.Graph(id='my-graph', \n",
        "                               figure={},\n",
        "                               style={'width': '70vh', 'height': '70vh'}\n",
        "                              ),\n",
        "     ],\n",
        "\n",
        "style={'width': '30%', 'display': 'inline-block', 'float':'left'}),              \n",
        "     \n",
        "     html.Div([\n",
        "        \n",
        "                     dcc.Dropdown(id='ests',\n",
        "                                  value='SP'),\n",
        "\n",
        "                     dcc.Dropdown(id='cids',\n",
        "                                  value='SAO PAULO'),\n",
        "               \n",
        "                     dcc.Graph(id='my-graph2', \n",
        "                               figure={},\n",
        "                               style={'height': 400}\n",
        "                              ),\n",
        "               \n",
        "                     dcc.Graph(id='my-graph3', \n",
        "                              figure={},\n",
        "                              style={'height': 500}\n",
        "                              ),\n",
        "],\n",
        "\n",
        "style={'width': '66%', 'float': 'right', 'display': 'inline-block'})\n",
        "     \n",
        "])\n",
        "\n",
        "\n",
        "\n",
        "@app.callback(Output(component_id='my-graph', component_property='figure'),\n",
        "              [Input('dat1', 'date'),\n",
        "               Input('dat2', 'date'),               \n",
        "               Input(component_id='prods', component_property='value'),\n",
        "               Input(component_id='regs', component_property='value')]\n",
        ")\n",
        "\n",
        "def grafico_regiao(data_inicial, data_final, valor_produto, valor_regiao):\n",
        "    mediaNacional = df[(df['Produto'] == valor_produto)]\n",
        "    mediaNacional = mediaNacional['Valor de Venda'].mean()\n",
        "    dff = df.loc[df['Data da Coleta'] >= data_inicial]\n",
        "    dff = dff.loc[df['Data da Coleta'] <= data_final] \n",
        "    dff = dff[(dff['Produto'] == valor_produto) & (dff['Região - Sigla'] == valor_regiao)]\n",
        "    dff = dff.groupby('Estado - Sigla')['Valor de Venda'].mean()\n",
        "    fig = px.bar(data_frame=dff.reset_index(),x='Valor de Venda',y='Estado - Sigla')\n",
        "    fig.add_vline(x=mediaNacional, line_width=2, line_color='orange')\n",
        "    fig.update_layout(title_text='Média dos Preços de Combustíveis, e comparativo com a Média Nacional: R$ {:.3f}'.format(mediaNacional), font=dict(size=7))\n",
        "    return fig\n",
        "\n",
        "@app.callback(Output(component_id='ests', component_property='options'),\n",
        "              [Input('dat1', 'date'),\n",
        "               Input('dat2', 'date'),\n",
        "               Input(component_id='prods', component_property='value'),\n",
        "               Input(component_id='regs', component_property='value')]\n",
        ")\n",
        "\n",
        "def iterativo_estado(data_inicial, data_final, valor_produto, valor_regiao):\n",
        "    dff1 = df.loc[df['Data da Coleta'] >= data_inicial]\n",
        "    dff1 = dff1.loc[df['Data da Coleta'] <= data_final] \n",
        "    dff1 = dff1[(dff1['Produto'] == valor_produto) & (dff1['Região - Sigla'] == valor_regiao)] \n",
        "    return [{'label': x, 'value': x} for x in sorted(dff1['Estado - Sigla'].unique())]\n",
        "\n",
        "@app.callback(Output(component_id='cids', component_property='options'),\n",
        "              [Input('dat1', 'date'),\n",
        "               Input('dat2', 'date'),               \n",
        "               Input(component_id='prods', component_property='value'),\n",
        "              Input(component_id='ests', component_property='value')]\n",
        ")\n",
        "\n",
        "def iterativo_municipio(data_inicial, data_final, valor_produto, valor_estado):\n",
        "    dff2 = df.loc[df['Data da Coleta'] >= data_inicial]\n",
        "    dff2 = dff2.loc[df['Data da Coleta'] <= data_final] \n",
        "    dff2 = dff2[(dff2['Produto'] == valor_produto) & (dff2['Estado - Sigla'] == valor_estado)] \n",
        "    return [{'label': x, 'value': x} for x in sorted(dff2['Município'].unique())]\n",
        "\n",
        "\n",
        "@app.callback(Output(component_id='my-graph2', component_property='figure'),\n",
        "              [Input('dat1', 'date'),\n",
        "               Input('dat2', 'date'),               \n",
        "               Input(component_id='prods', component_property='value'),\n",
        "               Input(component_id='ests', component_property='value'),\n",
        "               Input(component_id='cids', component_property='value')]\n",
        ")\n",
        "\n",
        "def grafico_bairro(data_inicial, data_final, valor_produto, valor_estado, valor_municipio):\n",
        "    dff3 = df.loc[df['Data da Coleta'] >= data_inicial]\n",
        "    dff3 = dff3.loc[df['Data da Coleta'] <= data_final] \n",
        "    dff3 = dff3[(dff3['Produto'] == valor_produto) & (dff3['Estado - Sigla'] == valor_estado) & (dff3['Município'] == valor_municipio)]\n",
        "    mediaCidade = dff3['Valor de Venda'].mean()\n",
        "    fig1 = px.bar(data_frame=dff3.groupby('Bairro')['Valor de Venda'].mean().reset_index(),x='Bairro',y='Valor de Venda',range_y=[(dff3['Valor de Venda'].min()), dff3['Valor de Venda'].max()])\n",
        "    return fig1  \n",
        "\n",
        "@app.callback(Output(component_id='my-graph3', component_property='figure'),\n",
        "              [Input('dat1', 'date'),\n",
        "               Input('dat2', 'date'),               \n",
        "               Input(component_id='prods', component_property='value'),\n",
        "               Input(component_id='ests', component_property='value'),\n",
        "               Input(component_id='cids', component_property='value')]\n",
        ")\n",
        "\n",
        "def grafico_revenda(data_inicial, data_final, valor_produto, valor_estado, valor_municipio):\n",
        "    dff4 = df.loc[df['Data da Coleta'] >= data_inicial]\n",
        "    dff4 = dff4.loc[df['Data da Coleta'] <= data_final]     \n",
        "    dff4 = dff4[(dff4['Produto'] == valor_produto) & (dff4['Estado - Sigla'] == valor_estado) & (dff4['Município'] == valor_municipio)]\n",
        "    dff4 = dff4.loc[dff4.groupby('Revenda')['Data da Coleta'].idxmax(),:]\n",
        "    fig2 = px.scatter(data_frame=dff4,x=sorted(dff4['Bairro']),y='Valor de Venda',hover_name='Revenda',hover_data=['Nome da Rua', 'Número Rua', 'Bandeira','Data da Coleta'])\n",
        "    return fig2  \n",
        "\n",
        "\n",
        "app.run_server(port='8050')"
      ]
    }
  ],
  "metadata": {
    "colab": {
      "collapsed_sections": [],
      "name": "Untitled0 (8).ipynb",
      "provenance": []
    },
    "kernelspec": {
      "display_name": "Python 3",
      "name": "python3"
    },
    "language_info": {
      "name": "python"
    }
  },
  "nbformat": 4,
  "nbformat_minor": 0
}
